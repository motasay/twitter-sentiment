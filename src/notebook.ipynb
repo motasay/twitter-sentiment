{
 "cells": [
  {
   "cell_type": "markdown",
   "metadata": {},
   "source": [
    "# imports"
   ]
  },
  {
   "cell_type": "code",
   "execution_count": 1,
   "metadata": {
    "collapsed": false
   },
   "outputs": [
    {
     "name": "stderr",
     "output_type": "stream",
     "text": [
      "Using gpu device 0: GeForce GT 650M (CNMeM is disabled)\n"
     ]
    }
   ],
   "source": [
    "%matplotlib inline\n",
    "import codecs\n",
    "import logging\n",
    "\n",
    "import numpy as np\n",
    "from word2vec.word2vecReader import Word2Vec\n",
    "from preprocessing import preprocess_tweet\n",
    "\n",
    "from nltk import word_tokenize\n",
    "\n",
    "from sklearn.cross_validation import train_test_split\n",
    "from sklearn.cross_validation import cross_val_score\n",
    "from sklearn.metrics import classification_report\n",
    "from sklearn.metrics import confusion_matrix\n",
    "from sklearn.utils import shuffle\n",
    "from sklearn.preprocessing import MultiLabelBinarizer\n",
    "from sklearn.linear_model import LogisticRegression\n",
    "from sklearn.decomposition import PCA\n",
    "\n",
    "from lasagne import layers\n",
    "from lasagne.updates import nesterov_momentum\n",
    "from lasagne.nonlinearities import tanh, softmax\n",
    "from nolearn.lasagne import NeuralNet\n",
    "\n",
    "import matplotlib.pyplot as plt\n",
    "\n",
    "import sys"
   ]
  },
  {
   "cell_type": "markdown",
   "metadata": {},
   "source": [
    "# Load the corpus and the model"
   ]
  },
  {
   "cell_type": "code",
   "execution_count": 2,
   "metadata": {
    "collapsed": false
   },
   "outputs": [
    {
     "name": "stdout",
     "output_type": "stream",
     "text": [
      "Number of positives = 7331\n",
      "Number of negatives = 9372\n",
      "Number of neutrals  = 10724\n"
     ]
    }
   ],
   "source": [
    "f = codecs.open('../data/positive-all', 'r', 'utf-8')\n",
    "positive = {l.strip() for l in f}\n",
    "f.close()\n",
    "\n",
    "f = codecs.open('../data/negative-all', 'r', 'utf-8')\n",
    "negative = {l.strip() for l in f}\n",
    "f.close()\n",
    "\n",
    "f = codecs.open('../data/neutral-all', 'r', 'utf-8')\n",
    "neutral = {l.strip() for l in f}\n",
    "f.close()\n",
    "\n",
    "print 'Number of positives = %d' % len(positive)\n",
    "print 'Number of negatives = %d' % len(negative)\n",
    "print 'Number of neutrals  = %d' % len(neutral)"
   ]
  },
  {
   "cell_type": "code",
   "execution_count": 3,
   "metadata": {
    "collapsed": false
   },
   "outputs": [
    {
     "name": "stdout",
     "output_type": "stream",
     "text": [
      "Loaded the model with layer size: 400 and 3039345 vocabulary size.\n"
     ]
    }
   ],
   "source": [
    "model_path = '../models/word2vec_twitter_model.bin'\n",
    "w2v = Word2Vec.load_word2vec_format(model_path, binary=True)\n",
    "\n",
    "print \"Loaded the model with layer size: %d and %d vocabulary size.\" % (w2v.layer1_size, len(w2v.vocab))"
   ]
  },
  {
   "cell_type": "markdown",
   "metadata": {},
   "source": [
    "# Let's check word frequencies in each class"
   ]
  },
  {
   "cell_type": "code",
   "execution_count": 4,
   "metadata": {
    "collapsed": false
   },
   "outputs": [
    {
     "name": "stdout",
     "output_type": "stream",
     "text": [
      "Vocab size for positives: 8776\n",
      "Vocab size for negatives: 10529\n",
      "Vocab size for neutrals : 12070\n",
      "Top 50 positive words:\n",
      "\t|||HASHTAG||| : 8972\n",
      "\t|||MENTION||| : 5478\n",
      "\t! : 4627\n",
      "\ti : 2183\n",
      "\t|||DIGIT||| : 1570\n",
      "\tyou : 1210\n",
      "\tipad : 912\n",
      "\tit : 909\n",
      "\tmy : 859\n",
      "\tgoogle : 777\n",
      "\tapple : 768\n",
      "\tnot : 709\n",
      "\t? : 678\n",
      "\tup : 575\n",
      "\tstore : 557\n",
      "\tso : 543\n",
      "\tme : 515\n",
      "\tthanks : 497\n",
      "\tjust : 487\n",
      "\tiphone : 456\n",
      "\tnew : 454\n",
      "\tquot : 453\n",
      "\tgo : 440\n",
      "\tapp : 403\n",
      "\tout : 385\n",
      "\tthank : 382\n",
      "\tgreat : 376\n",
      "\tamp : 367\n",
      "\tyour : 359\n",
      "\tlineup : 358\n",
      "\tsee : 323\n",
      "\tall : 323\n",
      "\tcoachella : 311\n",
      "\tget : 308\n",
      "\tnow : 303\n",
      "\twill : 303\n",
      "\twe : 296\n",
      "\tline : 295\n",
      "\tflight : 269\n",
      "\tbut : 264\n",
      "\taustin : 262\n",
      "\ttime : 261\n",
      "\tone : 252\n",
      "\tlove : 251\n",
      "\tlike : 250\n",
      "\tgoing : 246\n",
      "\tgot : 244\n",
      "\tgood : 236\n",
      "\tthey : 234\n",
      "\tcan : 227\n",
      "Top 50 neutral words:\n",
      "\t|||HASHTAG||| : 13264\n",
      "\t|||MENTION||| : 8631\n",
      "\t|||DIGIT||| : 3155\n",
      "\t? : 2625\n",
      "\tgoogle : 2216\n",
      "\ti : 1766\n",
      "\t! : 1627\n",
      "\tyou : 1327\n",
      "\tapple : 1240\n",
      "\tipad : 1091\n",
      "\tcar : 1069\n",
      "\tquot : 992\n",
      "\tcars : 929\n",
      "\tit : 926\n",
      "\tnot : 898\n",
      "\tstore : 897\n",
      "\tnew : 834\n",
      "\tmy : 819\n",
      "\tself-driving : 817\n",
      "\tamp : 759\n",
      "\tiphone : 716\n",
      "\tup : 636\n",
      "\twill : 621\n",
      "\taustin : 567\n",
      "\tdriverless : 565\n",
      "\tjust : 523\n",
      "\ttoday : 515\n",
      "\tcan : 492\n",
      "\tout : 482\n",
      "\twe : 467\n",
      "\tsocial : 462\n",
      "\tlaunch : 459\n",
      "\tyour : 457\n",
      "\tme : 447\n",
      "\tdriving : 427\n",
      "\tvia : 417\n",
      "\tget : 405\n",
      "\tcircles : 403\n",
      "\tapp : 385\n",
      "\tself : 377\n",
      "\tnow : 366\n",
      "\thow : 344\n",
      "\tnetwork : 341\n",
      "\tsxsw : 336\n",
      "\t$ : 326\n",
      "\tflight : 314\n",
      "\tso : 309\n",
      "\tline : 303\n",
      "\tbut : 300\n",
      "\there : 289\n",
      "Top 50 negative words:\n",
      "\t|||MENTION||| : 9551\n",
      "\ti : 4265\n",
      "\t|||DIGIT||| : 4241\n",
      "\t|||HASHTAG||| : 3796\n",
      "\tnot : 3153\n",
      "\t? : 2907\n",
      "\t! : 2579\n",
      "\tyou : 2439\n",
      "\tflight : 2412\n",
      "\tmy : 2345\n",
      "\tit : 1653\n",
      "\tme : 1276\n",
      "\tyour : 1259\n",
      "\tno : 1220\n",
      "\tget : 884\n",
      "\tbut : 851\n",
      "\tcancelled : 777\n",
      "\tnow : 768\n",
      "\twe : 745\n",
      "\tservice : 687\n",
      "\tup : 660\n",
      "\tjust : 626\n",
      "\thours : 609\n",
      "\tso : 592\n",
      "\tthey : 574\n",
      "\thold : 571\n",
      "\tcustomer : 557\n",
      "\tcan : 547\n",
      "\ttime : 546\n",
      "\twhy : 542\n",
      "\tamp : 489\n",
      "\thelp : 473\n",
      "\tstill : 469\n",
      "\tout : 456\n",
      "\twhen : 453\n",
      "\tplane : 451\n",
      "\thow : 445\n",
      "\tall : 440\n",
      "\tdelayed : 432\n",
      "\tone : 424\n",
      "\tphone : 424\n",
      "\twill : 423\n",
      "\thour : 420\n",
      "\tus : 415\n",
      "\tcall : 414\n",
      "\tca : 408\n",
      "\tflightled : 392\n",
      "\tthere : 379\n",
      "\twould : 368\n",
      "\t$ : 366\n"
     ]
    }
   ],
   "source": [
    "import preprocessing\n",
    "reload(preprocessing)\n",
    "\n",
    "positive_counts = dict()\n",
    "negative_counts = dict()\n",
    "neutral_counts  = dict()\n",
    "\n",
    "for sent in positive:\n",
    "    for w in preprocessing.preprocess_tweet(sent):\n",
    "        if w not in positive_counts: positive_counts[w] = 0\n",
    "        positive_counts[w] += 1\n",
    "\n",
    "for sent in negative:\n",
    "    for w in preprocessing.preprocess_tweet(sent):\n",
    "        if w not in negative_counts: negative_counts[w] = 0\n",
    "        negative_counts[w] += 1\n",
    "\n",
    "for sent in neutral:\n",
    "    for w in preprocessing.preprocess_tweet(sent):\n",
    "        if w not in neutral_counts: neutral_counts[w] = 0\n",
    "        neutral_counts[w] += 1\n",
    "\n",
    "print 'Vocab size for positives: %d' % (len(positive_counts))\n",
    "print 'Vocab size for negatives: %d' % (len(negative_counts))\n",
    "print 'Vocab size for neutrals : %d' % (len(neutral_counts))\n",
    "\n",
    "N = 50\n",
    "print 'Top %d positive words:' % N\n",
    "for w in sorted(positive_counts.keys(), key=positive_counts.get, reverse=True)[:N]:\n",
    "    print '\\t%s : %d' % (w, positive_counts[w])\n",
    "\n",
    "print 'Top %d neutral words:' % N\n",
    "for w in sorted(neutral_counts.keys(), key=neutral_counts.get, reverse=True)[:N]:\n",
    "    print '\\t%s : %d' % (w, neutral_counts[w])\n",
    "\n",
    "print 'Top %d negative words:' % N\n",
    "for w in sorted(negative_counts.keys(), key=negative_counts.get, reverse=True)[:N]:\n",
    "    print '\\t%s : %d' % (w, negative_counts[w])"
   ]
  },
  {
   "cell_type": "markdown",
   "metadata": {},
   "source": [
    "# Build a training set using only the word2vec features"
   ]
  },
  {
   "cell_type": "code",
   "execution_count": 5,
   "metadata": {
    "collapsed": false
   },
   "outputs": [],
   "source": [
    "positive_features = np.zeros((len(positive), w2v.layer1_size), dtype=np.float32)\n",
    "negative_features = np.zeros((len(negative), w2v.layer1_size), dtype=np.float32)\n",
    "neutral_features  = np.zeros((len(neutral) , w2v.layer1_size), dtype=np.float32)\n",
    "\n",
    "# the word2vec model is so big so we don't really need to normalise\n",
    "# the tweets before passing them over to the model, just tokenizing...\n",
    "\n",
    "for i, sentence in enumerate(positive):\n",
    "    sent_vec = w2v.get_sentence_vec(word_tokenize(sentence))\n",
    "    positive_features[i,] = sent_vec\n",
    "\n",
    "for i, sentence in enumerate(negative):\n",
    "    sent_vec = w2v.get_sentence_vec(word_tokenize(sentence))\n",
    "    negative_features[i,] = sent_vec\n",
    "\n",
    "for i, sentence in enumerate(neutral):\n",
    "    sent_vec = w2v.get_sentence_vec(word_tokenize(sentence))\n",
    "    neutral_features[i,] = sent_vec\n",
    "\n",
    "del w2v # we're finished with it for now"
   ]
  },
  {
   "cell_type": "markdown",
   "metadata": {},
   "source": [
    "# Split the dataset into train/test"
   ]
  },
  {
   "cell_type": "code",
   "execution_count": 6,
   "metadata": {
    "collapsed": false
   },
   "outputs": [],
   "source": [
    "# we'll ignore the imbalance of the classes for now and see what happens\n",
    "# choose 500 samples from each class to be included in the test set\n",
    "\n",
    "num_test_samples_per_class = 500\n",
    "\n",
    "pos_train, pos_test = train_test_split(positive_features, test_size=num_test_samples_per_class, random_state=22)\n",
    "neg_train, neg_test = train_test_split(negative_features, test_size=num_test_samples_per_class, random_state=22)\n",
    "neu_train, neu_test = train_test_split(neutral_features , test_size=num_test_samples_per_class, random_state=22)\n",
    "\n",
    "X_train = np.vstack((\n",
    "    pos_train,\n",
    "    neg_train,\n",
    "    neu_train\n",
    "))\n",
    "X_test  = np.vstack((\n",
    "    pos_test,\n",
    "    neg_test,\n",
    "    neu_test\n",
    "))\n",
    "Y_train = np.hstack((\n",
    "    np.ones((pos_train.shape[0]), dtype=np.float32),\n",
    "    np.ones((neg_train.shape[0]), dtype=np.float32) * -1,\n",
    "    np.zeros((neu_train.shape[0]), dtype=np.float32)\n",
    "))\n",
    "Y_test = np.hstack((\n",
    "    np.ones((pos_test.shape[0]), dtype=np.float32),\n",
    "    np.ones((neg_test.shape[0]), dtype=np.float32) * -1,\n",
    "    np.zeros((neu_test.shape[0]), dtype=np.float32)\n",
    "))\n",
    "\n",
    "# shuffle 'em\n",
    "X_train, Y_train = shuffle(X_train, Y_train, random_state=111)\n",
    "X_test , Y_test  = shuffle(X_test , Y_test , random_state=111)"
   ]
  },
  {
   "cell_type": "markdown",
   "metadata": {},
   "source": [
    "# train a classifier on this dataset"
   ]
  },
  {
   "cell_type": "code",
   "execution_count": 7,
   "metadata": {
    "collapsed": false
   },
   "outputs": [
    {
     "name": "stderr",
     "output_type": "stream",
     "text": [
      "[Parallel(n_jobs=8)]: Done   1 jobs       | elapsed:    9.6s\n",
      "[Parallel(n_jobs=8)]: Done   3 out of   3 | elapsed:   10.1s finished\n"
     ]
    },
    {
     "name": "stdout",
     "output_type": "stream",
     "text": [
      "Accuracy: 0.76152 [0.75851 - 0.76454]\n"
     ]
    },
    {
     "data": {
      "text/plain": [
       "LogisticRegression(C=100000.0, class_weight='auto', dual=False,\n",
       "          fit_intercept=True, intercept_scaling=1, penalty='l2',\n",
       "          random_state=33, tol=0.0001)"
      ]
     },
     "execution_count": 7,
     "metadata": {},
     "output_type": "execute_result"
    }
   ],
   "source": [
    "model = LogisticRegression(C=1e5, class_weight='auto', random_state=33)\n",
    "scores = cross_val_score(model, X_train, Y_train, cv=3, verbose=1, n_jobs=8)\n",
    "print \"Accuracy: %0.5f [%0.5f - %0.5f]\" % (scores.mean(), scores.mean()-scores.std() * 2, scores.mean()+scores.std() * 2)\n",
    "\n",
    "model.fit(X_train, Y_train)"
   ]
  },
  {
   "cell_type": "markdown",
   "metadata": {},
   "source": [
    "# Evaluate the classifier"
   ]
  },
  {
   "cell_type": "code",
   "execution_count": 6,
   "metadata": {
    "collapsed": false
   },
   "outputs": [
    {
     "name": "stdout",
     "output_type": "stream",
     "text": [
      "             precision    recall  f1-score   support\n",
      "\n",
      "       -1.0       0.83      0.89      0.86       500\n",
      "        0.0       0.71      0.79      0.75       500\n",
      "        1.0       0.77      0.64      0.70       500\n",
      "\n",
      "avg / total       0.77      0.77      0.77      1500\n",
      "\n",
      "[[444  31  25]\n",
      " [ 39 393  68]\n",
      " [ 52 129 319]]\n"
     ]
    },
    {
     "data": {
      "image/png": "[encoded data removed]",
      "text/plain": [
       "<matplotlib.figure.Figure at 0x106afb2d0>"
      ]
     },
     "metadata": {},
     "output_type": "display_data"
    }
   ],
   "source": [
    "Y_pred = model.predict(X_test)\n",
    "print classification_report(Y_test, Y_pred)\n",
    "\n",
    "cm = confusion_matrix(Y_test, Y_pred)\n",
    "\n",
    "print cm\n",
    "\n",
    "fig = plt.figure()\n",
    "ax = fig.add_subplot(111)\n",
    "cax = ax.matshow(cm)\n",
    "fig.colorbar(cax)\n",
    "\n",
    "ax.set_xticklabels(['']+['-1', '0', '1'])\n",
    "ax.set_yticklabels(['']+['-1', '0', '1'])\n",
    "\n",
    "plt.title('Confusion Matrix')\n",
    "plt.ylabel('True label')\n",
    "plt.xlabel('Predicted label')\n",
    "plt.show()"
   ]
  },
  {
   "cell_type": "markdown",
   "metadata": {
    "collapsed": false
   },
   "source": [
    "# Let's see the effect of PCA!"
   ]
  },
  {
   "cell_type": "code",
   "execution_count": 7,
   "metadata": {
    "collapsed": false
   },
   "outputs": [
    {
     "name": "stderr",
     "output_type": "stream",
     "text": [
      "[Parallel(n_jobs=1)]: Done   1 jobs       | elapsed:    1.1s\n",
      "[Parallel(n_jobs=1)]: Done   3 out of   3 | elapsed:    3.2s finished\n"
     ]
    },
    {
     "name": "stdout",
     "output_type": "stream",
     "text": [
      "Accuracy: 0.75905 [0.75811 - 0.76000]\n"
     ]
    },
    {
     "data": {
      "text/plain": [
       "LogisticRegression(C=100000.0, class_weight='auto', dual=False,\n",
       "          fit_intercept=True, intercept_scaling=1, max_iter=100,\n",
       "          multi_class='ovr', penalty='l2', random_state=33,\n",
       "          solver='liblinear', tol=0.0001, verbose=0)"
      ]
     },
     "execution_count": 7,
     "metadata": {},
     "output_type": "execute_result"
    }
   ],
   "source": [
    "pca = PCA(n_components=300, whiten=True)\n",
    "pca.fit(X_train)\n",
    "\n",
    "X_transformed = pca.transform(X_train)\n",
    "\n",
    "model = LogisticRegression(C=1e5, class_weight='auto', random_state=33)\n",
    "scores = cross_val_score(model, X_transformed, Y_train, cv=3, verbose=1)\n",
    "print \"Accuracy: %0.5f [%0.5f - %0.5f]\" % (scores.mean(), scores.mean()-scores.std() * 2, scores.mean()+scores.std() * 2)\n",
    "\n",
    "model.fit(X_transformed, Y_train)"
   ]
  },
  {
   "cell_type": "code",
   "execution_count": 8,
   "metadata": {
    "collapsed": false
   },
   "outputs": [
    {
     "name": "stdout",
     "output_type": "stream",
     "text": [
      "             precision    recall  f1-score   support\n",
      "\n",
      "       -1.0       0.84      0.90      0.86       500\n",
      "        0.0       0.70      0.77      0.73       500\n",
      "        1.0       0.77      0.63      0.70       500\n",
      "\n",
      "avg / total       0.77      0.77      0.76      1500\n",
      "\n",
      "[[448  30  22]\n",
      " [ 42 387  71]\n",
      " [ 46 138 316]]\n"
     ]
    },
    {
     "data": {
      "image/png": "[encoded data removed]",
      "text/plain": [
       "<matplotlib.figure.Figure at 0x10fc3e190>"
      ]
     },
     "metadata": {},
     "output_type": "display_data"
    }
   ],
   "source": [
    "Y_pred = model.predict(pca.transform(X_test))\n",
    "print classification_report(Y_test, Y_pred)\n",
    "\n",
    "cm = confusion_matrix(Y_test, Y_pred)\n",
    "\n",
    "print cm\n",
    "\n",
    "fig = plt.figure()\n",
    "ax = fig.add_subplot(111)\n",
    "cax = ax.matshow(cm)\n",
    "fig.colorbar(cax)\n",
    "\n",
    "ax.set_xticklabels(['']+['-1', '0', '1'])\n",
    "ax.set_yticklabels(['']+['-1', '0', '1'])\n",
    "\n",
    "plt.title('Confusion Matrix')\n",
    "plt.ylabel('True label')\n",
    "plt.xlabel('Predicted label')\n",
    "plt.show()"
   ]
  },
  {
   "cell_type": "markdown",
   "metadata": {},
   "source": [
    "# It's not helping."
   ]
  },
  {
   "cell_type": "markdown",
   "metadata": {
    "collapsed": true
   },
   "source": [
    "# Let's see what a normal neural net does on the W2V features"
   ]
  },
  {
   "cell_type": "code",
   "execution_count": 13,
   "metadata": {
    "collapsed": false
   },
   "outputs": [
    {
     "name": "stdout",
     "output_type": "stream",
     "text": [
      "# Neural Network with 1403001 learnable parameters\n",
      "\n",
      "## Layer information\n",
      "\n",
      "  #  name        size\n",
      "---  --------  ------\n",
      "  0  input        400\n",
      "  1  hidden1     1000\n",
      "  2  dropout1    1000\n",
      "  3  hidden2     1000\n",
      "  4  dropout2    1000\n",
      "  5  output         1\n",
      "\n",
      "  epoch    train loss    valid loss    train/val  dur\n",
      "-------  ------------  ------------  -----------  -----\n",
      "      1       \u001b[36m0.49380\u001b[0m       \u001b[32m0.40578\u001b[0m      1.21692  1.96s\n",
      "      2       \u001b[36m0.38043\u001b[0m       \u001b[32m0.34664\u001b[0m      1.09748  1.55s\n",
      "      3       \u001b[36m0.34009\u001b[0m       \u001b[32m0.31964\u001b[0m      1.06398  1.89s\n",
      "      4       \u001b[36m0.31969\u001b[0m       \u001b[32m0.30434\u001b[0m      1.05043  1.54s\n",
      "      5       \u001b[36m0.30566\u001b[0m       \u001b[32m0.30284\u001b[0m      1.00931  1.53s\n",
      "      6       \u001b[36m0.29810\u001b[0m       \u001b[32m0.29219\u001b[0m      1.02025  1.53s\n",
      "      7       \u001b[36m0.28983\u001b[0m       \u001b[32m0.28547\u001b[0m      1.01526  1.52s\n",
      "      8       \u001b[36m0.28221\u001b[0m       0.29149      0.96817  1.53s\n",
      "      9       \u001b[36m0.27866\u001b[0m       0.28924      0.96344  1.53s\n",
      "     10       \u001b[36m0.27459\u001b[0m       \u001b[32m0.27711\u001b[0m      0.99090  1.53s\n",
      "     11       \u001b[36m0.26981\u001b[0m       \u001b[32m0.27150\u001b[0m      0.99379  1.85s\n",
      "     12       \u001b[36m0.26798\u001b[0m       0.27340      0.98015  1.53s\n",
      "     13       \u001b[36m0.26503\u001b[0m       \u001b[32m0.27075\u001b[0m      0.97886  1.52s\n",
      "     14       \u001b[36m0.26122\u001b[0m       \u001b[32m0.26391\u001b[0m      0.98982  1.52s\n",
      "     15       \u001b[36m0.25948\u001b[0m       \u001b[32m0.26364\u001b[0m      0.98419  1.53s\n",
      "     16       \u001b[36m0.25736\u001b[0m       0.26489      0.97159  1.52s\n",
      "     17       \u001b[36m0.25323\u001b[0m       \u001b[32m0.26078\u001b[0m      0.97106  1.53s\n",
      "     18       \u001b[36m0.25318\u001b[0m       0.26494      0.95562  1.54s\n",
      "     19       \u001b[36m0.25111\u001b[0m       \u001b[32m0.25669\u001b[0m      0.97825  1.53s\n",
      "     20       \u001b[36m0.24783\u001b[0m       0.25702      0.96424  1.53s\n",
      "     21       \u001b[36m0.24684\u001b[0m       \u001b[32m0.25592\u001b[0m      0.96453  1.52s\n",
      "     22       \u001b[36m0.24477\u001b[0m       \u001b[32m0.25569\u001b[0m      0.95728  1.53s\n",
      "     23       \u001b[36m0.24308\u001b[0m       0.25970      0.93602  1.53s\n",
      "     24       \u001b[36m0.24193\u001b[0m       0.25943      0.93255  1.53s\n",
      "     25       \u001b[36m0.23968\u001b[0m       0.25722      0.93182  1.52s\n",
      "     26       0.24027       0.25813      0.93082  1.52s\n",
      "     27       \u001b[36m0.23813\u001b[0m       \u001b[32m0.25141\u001b[0m      0.94715  1.52s\n",
      "     28       \u001b[36m0.23505\u001b[0m       0.25482      0.92239  1.52s\n",
      "     29       \u001b[36m0.23405\u001b[0m       0.25932      0.90254  1.53s\n",
      "     30       0.23432       0.25707      0.91150  1.53s\n",
      "     31       \u001b[36m0.23385\u001b[0m       0.25513      0.91660  1.57s\n",
      "     32       \u001b[36m0.23177\u001b[0m       0.25465      0.91015  1.53s\n",
      "     33       \u001b[36m0.23080\u001b[0m       \u001b[32m0.25029\u001b[0m      0.92212  1.55s\n",
      "     34       \u001b[36m0.22738\u001b[0m       0.25171      0.90333  1.54s\n",
      "     35       0.22920       0.25773      0.88928  1.52s\n",
      "     36       \u001b[36m0.22596\u001b[0m       0.25524      0.88528  1.52s\n",
      "     37       \u001b[36m0.22534\u001b[0m       0.26729      0.84308  1.52s\n",
      "     38       \u001b[36m0.22516\u001b[0m       \u001b[32m0.25014\u001b[0m      0.90012  1.52s\n",
      "     39       \u001b[36m0.22290\u001b[0m       0.25240      0.88309  1.52s\n",
      "     40       \u001b[36m0.22166\u001b[0m       \u001b[32m0.24887\u001b[0m      0.89068  1.52s\n",
      "     41       \u001b[36m0.22097\u001b[0m       0.25502      0.86648  1.52s\n",
      "     42       0.22138       0.25655      0.86290  1.52s\n",
      "     43       \u001b[36m0.21951\u001b[0m       \u001b[32m0.24699\u001b[0m      0.88874  1.52s\n",
      "     44       \u001b[36m0.21784\u001b[0m       0.25240      0.86305  1.53s\n",
      "     45       \u001b[36m0.21615\u001b[0m       \u001b[32m0.24548\u001b[0m      0.88050  1.52s\n",
      "     46       \u001b[36m0.21564\u001b[0m       0.24915      0.86548  1.52s\n",
      "     47       \u001b[36m0.21472\u001b[0m       0.24922      0.86158  1.52s\n",
      "     48       \u001b[36m0.21337\u001b[0m       0.24756      0.86189  1.53s\n",
      "     49       \u001b[36m0.21163\u001b[0m       0.25159      0.84120  1.52s\n",
      "     50       0.21233       \u001b[32m0.24294\u001b[0m      0.87402  1.52s\n",
      "     51       \u001b[36m0.21137\u001b[0m       0.25087      0.84254  1.52s\n",
      "     52       \u001b[36m0.21036\u001b[0m       0.24598      0.85520  1.52s\n",
      "     53       \u001b[36m0.20986\u001b[0m       0.24437      0.85878  1.91s\n",
      "     54       \u001b[36m0.20720\u001b[0m       0.24614      0.84182  1.60s\n",
      "     55       0.20758       0.25518      0.81343  1.53s\n",
      "     56       0.20722       \u001b[32m0.24176\u001b[0m      0.85713  1.53s\n",
      "     57       \u001b[36m0.20388\u001b[0m       0.25212      0.80867  1.79s\n",
      "     58       \u001b[36m0.20364\u001b[0m       0.24804      0.82099  2.22s\n",
      "     59       0.20399       0.24664      0.82705  1.92s\n",
      "     60       0.20379       0.24548      0.83019  1.53s\n",
      "     61       \u001b[36m0.20194\u001b[0m       0.24898      0.81104  1.53s\n",
      "     62       \u001b[36m0.19944\u001b[0m       0.25512      0.78175  1.53s\n",
      "     63       0.20102       0.24666      0.81495  1.74s\n",
      "     64       \u001b[36m0.19822\u001b[0m       0.24576      0.80655  1.83s\n",
      "     65       \u001b[36m0.19598\u001b[0m       0.25106      0.78062  1.67s\n",
      "     66       0.19730       0.25224      0.78219  1.65s\n",
      "     67       0.19698       0.25125      0.78401  1.77s\n",
      "     68       \u001b[36m0.19574\u001b[0m       0.26871      0.72842  1.61s\n",
      "     69       \u001b[36m0.19547\u001b[0m       \u001b[32m0.24096\u001b[0m      0.81122  1.60s\n",
      "     70       \u001b[36m0.19333\u001b[0m       0.24477      0.78984  1.56s\n",
      "     71       \u001b[36m0.19274\u001b[0m       0.25960      0.74247  1.56s\n",
      "     72       \u001b[36m0.19148\u001b[0m       0.25094      0.76306  1.61s\n",
      "     73       \u001b[36m0.19110\u001b[0m       0.26300      0.72664  1.58s\n",
      "     74       \u001b[36m0.19048\u001b[0m       0.24406      0.78046  1.54s\n",
      "     75       0.19109       0.24951      0.76585  1.54s\n",
      "     76       \u001b[36m0.18765\u001b[0m       0.24123      0.77787  1.61s\n",
      "     77       \u001b[36m0.18442\u001b[0m       0.25236      0.73080  1.85s\n",
      "     78       0.18827       0.24619      0.76474  1.53s\n",
      "     79       0.18818       0.24238      0.77638  1.52s\n",
      "     80       \u001b[36m0.18304\u001b[0m       0.24611      0.74375  1.54s\n",
      "     81       \u001b[36m0.18205\u001b[0m       0.24385      0.74657  1.54s\n",
      "     82       0.18390       0.25332      0.72595  1.52s\n",
      "     83       0.18352       0.25060      0.73231  1.78s\n",
      "     84       \u001b[36m0.18129\u001b[0m       0.25659      0.70656  1.72s\n",
      "     85       0.18153       0.24494      0.74110  1.54s\n",
      "     86       \u001b[36m0.17746\u001b[0m       0.25210      0.70394  1.87s\n",
      "     87       0.17892       0.24238      0.73815  1.91s\n",
      "     88       0.17938       \u001b[32m0.24051\u001b[0m      0.74585  1.91s\n",
      "     89       0.17853       0.24715      0.72235  1.80s\n",
      "     90       0.17770       0.24617      0.72188  2.18s\n",
      "     91       \u001b[36m0.17555\u001b[0m       0.25220      0.69609  1.72s\n",
      "     92       0.17615       0.27416      0.64251  1.93s\n",
      "     93       0.17625       0.25262      0.69768  1.59s\n",
      "     94       0.17564       0.24860      0.70651  1.54s\n",
      "     95       \u001b[36m0.17135\u001b[0m       0.24365      0.70326  1.53s\n",
      "     96       0.17271       0.24672      0.70002  1.53s\n",
      "     97       0.17185       0.26230      0.65518  1.96s\n",
      "     98       \u001b[36m0.17107\u001b[0m       0.25973      0.65863  2.26s\n",
      "     99       0.17204       0.24370      0.70598  2.23s\n",
      "    100       0.17362       0.24109      0.72013  2.08s\n",
      "    101       \u001b[36m0.16672\u001b[0m       \u001b[32m0.24013\u001b[0m      0.69427  1.88s\n",
      "    102       0.16770       0.24623      0.68109  1.59s\n",
      "    103       0.16806       0.24516      0.68550  1.57s\n",
      "    104       0.16914       0.26763      0.63201  1.55s\n",
      "    105       0.16823       \u001b[32m0.23782\u001b[0m      0.70739  1.56s\n",
      "    106       0.16919       0.24767      0.68310  1.53s\n",
      "    107       \u001b[36m0.16577\u001b[0m       0.25410      0.65238  1.54s\n",
      "    108       \u001b[36m0.16567\u001b[0m       0.23960      0.69144  1.55s\n",
      "    109       0.16624       0.24283      0.68460  1.63s\n",
      "    110       \u001b[36m0.16231\u001b[0m       0.24534      0.66159  2.03s\n",
      "    111       \u001b[36m0.16096\u001b[0m       0.25578      0.62930  1.92s\n",
      "    112       0.16379       0.24517      0.66804  2.24s\n",
      "    113       \u001b[36m0.16018\u001b[0m       0.24821      0.64533  1.74s\n",
      "    114       \u001b[36m0.15832\u001b[0m       0.23868      0.66330  1.52s\n",
      "    115       0.15938       0.25311      0.62970  1.53s\n",
      "    116       0.15867       0.23825      0.66596  1.53s\n",
      "    117       \u001b[36m0.15680\u001b[0m       0.24709      0.63460  1.53s\n",
      "    118       0.15817       0.24839      0.63677  1.52s\n",
      "    119       0.15820       0.24760      0.63893  1.53s\n",
      "    120       0.15716       0.24079      0.65268  1.52s\n",
      "    121       \u001b[36m0.15601\u001b[0m       0.25636      0.60858  1.52s\n",
      "    122       \u001b[36m0.15577\u001b[0m       0.26120      0.59635  1.52s\n",
      "    123       \u001b[36m0.15559\u001b[0m       0.25280      0.61548  1.52s\n",
      "    124       \u001b[36m0.15348\u001b[0m       0.24401      0.62899  1.52s\n",
      "    125       \u001b[36m0.15231\u001b[0m       0.24534      0.62081  1.52s\n",
      "    126       0.15278       0.24272      0.62944  1.52s\n",
      "    127       \u001b[36m0.14871\u001b[0m       0.24658      0.60308  1.52s\n",
      "    128       0.15073       0.27232      0.55352  1.52s\n",
      "    129       0.15016       0.25201      0.59584  1.52s\n",
      "    130       0.15098       0.25221      0.59863  1.52s\n",
      "    131       0.15103       0.26365      0.57282  1.53s\n",
      "    132       0.15059       0.25201      0.59755  1.52s\n",
      "    133       \u001b[36m0.14732\u001b[0m       0.24336      0.60536  1.52s\n",
      "    134       \u001b[36m0.14448\u001b[0m       0.24604      0.58723  1.53s\n",
      "    135       0.14503       0.24503      0.59187  1.53s\n",
      "    136       \u001b[36m0.14386\u001b[0m       0.25163      0.57172  1.53s\n",
      "    137       0.14736       0.25425      0.57957  1.52s\n",
      "    138       0.14574       0.24476      0.59543  1.53s\n",
      "    139       0.14689       0.24643      0.59606  1.53s\n",
      "    140       0.14582       0.24452      0.59634  1.53s\n",
      "    141       \u001b[36m0.14221\u001b[0m       0.26096      0.54495  1.52s\n",
      "    142       0.14368       0.25144      0.57143  1.52s\n",
      "    143       0.14273       0.24540      0.58160  1.52s\n",
      "    144       \u001b[36m0.14046\u001b[0m       0.24597      0.57105  1.52s\n",
      "    145       \u001b[36m0.14015\u001b[0m       0.26069      0.53760  1.52s\n",
      "    146       \u001b[36m0.14000\u001b[0m       0.25379      0.55164  1.52s\n",
      "    147       0.14029       0.28585      0.49078  1.52s\n",
      "    148       0.14008       0.24065      0.58208  1.52s\n",
      "    149       0.14034       0.24326      0.57688  1.53s\n",
      "    150       \u001b[36m0.13810\u001b[0m       0.25340      0.54499  1.52s\n",
      "    151       \u001b[36m0.13554\u001b[0m       0.24535      0.55246  1.53s\n",
      "    152       0.13756       0.24048      0.57203  1.52s\n",
      "    153       0.13811       0.25532      0.54092  1.52s\n",
      "    154       \u001b[36m0.13427\u001b[0m       0.24543      0.54709  1.52s\n",
      "    155       \u001b[36m0.13300\u001b[0m       0.25152      0.52877  1.52s\n",
      "    156       0.13354       0.26515      0.50364  1.52s\n",
      "    157       0.13386       0.24156      0.55414  1.52s\n",
      "    158       \u001b[36m0.13267\u001b[0m       0.24883      0.53316  1.52s\n",
      "    159       0.13448       0.24206      0.55556  1.52s\n",
      "    160       \u001b[36m0.13131\u001b[0m       0.25076      0.52363  1.52s\n",
      "    161       0.13146       0.24339      0.54013  1.53s\n",
      "    162       \u001b[36m0.13007\u001b[0m       0.24259      0.53617  1.53s\n",
      "    163       \u001b[36m0.12647\u001b[0m       0.23994      0.52708  1.52s\n",
      "    164       0.13006       0.26122      0.49790  1.52s\n",
      "    165       0.12844       0.24896      0.51593  1.52s\n",
      "    166       0.13020       0.23963      0.54334  1.52s\n",
      "    167       0.13044       0.24788      0.52623  1.53s\n",
      "    168       0.12785       0.24178      0.52881  1.52s\n",
      "    169       \u001b[36m0.12646\u001b[0m       0.25043      0.50496  1.53s\n",
      "    170       \u001b[36m0.12633\u001b[0m       0.25265      0.50001  1.53s\n",
      "    171       0.12855       0.25333      0.50744  1.52s\n",
      "    172       0.12822       0.26184      0.48971  1.52s\n",
      "    173       0.12958       0.24673      0.52518  1.52s\n",
      "    174       0.12715       0.24777      0.51318  1.52s\n",
      "    175       \u001b[36m0.12247\u001b[0m       0.24374      0.50248  1.52s\n",
      "    176       0.12504       0.24004      0.52091  1.52s\n",
      "    177       0.12289       0.26296      0.46735  1.52s\n",
      "    178       0.12457       0.24044      0.51809  1.52s\n",
      "    179       \u001b[36m0.12148\u001b[0m       0.26085      0.46573  1.52s\n",
      "    180       \u001b[36m0.11992\u001b[0m       0.24291      0.49368  1.53s\n",
      "    181       0.12117       0.25291      0.47910  1.52s\n",
      "    182       0.12018       0.24447      0.49161  1.53s\n",
      "    183       0.12230       0.24805      0.49304  1.52s\n",
      "    184       0.12077       0.24285      0.49730  1.52s\n",
      "    185       \u001b[36m0.11937\u001b[0m       0.24316      0.49089  1.52s\n",
      "    186       \u001b[36m0.11859\u001b[0m       0.24957      0.47518  1.52s\n",
      "    187       \u001b[36m0.11603\u001b[0m       0.24452      0.47451  1.52s\n",
      "    188       \u001b[36m0.11417\u001b[0m       0.24359      0.46872  1.52s\n",
      "    189       0.11568       0.25750      0.44925  1.52s\n",
      "    190       0.11533       0.25784      0.44729  1.52s\n",
      "    191       0.11588       0.24412      0.47470  1.77s\n",
      "    192       0.11519       0.25137      0.45827  1.53s\n",
      "    193       \u001b[36m0.11357\u001b[0m       0.24865      0.45673  1.52s\n",
      "    194       \u001b[36m0.11247\u001b[0m       0.25222      0.44595  1.51s\n",
      "    195       0.11573       0.25001      0.46290  1.51s\n",
      "    196       0.11574       0.24026      0.48171  1.51s\n",
      "    197       \u001b[36m0.11235\u001b[0m       0.26956      0.41678  1.51s\n",
      "    198       \u001b[36m0.11052\u001b[0m       0.24924      0.44342  1.52s\n",
      "    199       0.11175       0.24248      0.46086  1.51s\n",
      "    200       \u001b[36m0.10851\u001b[0m       0.25232      0.43005  1.52s\n",
      "    201       0.11126       0.24386      0.45625  1.51s\n",
      "    202       0.11065       0.24542      0.45087  1.52s\n",
      "    203       \u001b[36m0.10820\u001b[0m       0.24583      0.44013  1.51s\n",
      "    204       0.10839       0.25487      0.42526  1.51s\n",
      "    205       0.11048       0.25142      0.43942  1.52s\n",
      "Early stopping.\n",
      "Best valid loss was 0.237818 at epoch 105.\n",
      "Loaded parameters to layer 'hidden1' (shape 400x1000).\n",
      "Loaded parameters to layer 'hidden1' (shape 1000).\n",
      "Loaded parameters to layer 'hidden2' (shape 1000x1000).\n",
      "Loaded parameters to layer 'hidden2' (shape 1000).\n",
      "Loaded parameters to layer 'output' (shape 1000x1).\n",
      "Loaded parameters to layer 'output' (shape 1).\n"
     ]
    },
    {
     "data": {
      "text/plain": [
       "NeuralNet(X_tensor_type=None,\n",
       "     batch_iterator_test=<nolearn.lasagne.base.BatchIterator object at 0x116999090>,\n",
       "     batch_iterator_train=<nolearn.lasagne.base.BatchIterator object at 0x116983fd0>,\n",
       "     custom_score=None, dropout1_p=0.5, dropout2_p=0.5,\n",
       "     hidden1_num_units=1000, hidden2_num_units=1000,\n",
       "     input_shape=(None, 400),\n",
       "     layers=[('input', <class 'lasagne.layers.input.InputLayer'>), ('hidden1', <class 'lasagne.layers.dense.DenseLayer'>), ('dropout1', <class 'lasagne.layers.noise.DropoutLayer'>), ('hidden2', <class 'lasagne.layers.dense.DenseLayer'>), ('dropout2', <class 'lasagne.layers.noise.DropoutLayer'>), ('output', <class 'lasagne.layers.dense.DenseLayer'>)],\n",
       "     loss=None, max_epochs=1000, more_params={},\n",
       "     objective=<function objective at 0x1169849b0>,\n",
       "     objective_loss_function=<function squared_error at 0x11696a140>,\n",
       "     on_epoch_finished=[<__main__.AdjustVariable object at 0x175ce2490>, <__main__.AdjustVariable object at 0x175cdf7d0>, <__main__.EarlyStopping object at 0x175cdf810>, <nolearn.lasagne.handlers.PrintLog instance at 0x1791dd7a0>],\n",
       "     on_training_finished=[],\n",
       "     on_training_started=[<nolearn.lasagne.handlers.PrintLayerInfo instance at 0x1791dd758>],\n",
       "     output_nonlinearity=<function tanh at 0x1169566e0>,\n",
       "     output_num_units=1, regression=True,\n",
       "     train_split=<nolearn.lasagne.base.TrainSplit object at 0x1169990d0>,\n",
       "     update=<function nesterov_momentum at 0x11696a7d0>,\n",
       "     update_learning_rate=array(0.007940080016851425, dtype=float32),\n",
       "     update_momentum=array(0.9206033945083618, dtype=float32),\n",
       "     use_label_encoder=False, verbose=1,\n",
       "     y_tensor_type=TensorType(float32, matrix))"
      ]
     },
     "execution_count": 13,
     "metadata": {},
     "output_type": "execute_result"
    }
   ],
   "source": [
    "# first implement a class to cache the best model and\n",
    "# prevent overfitting\n",
    "class EarlyStopping(object):\n",
    "    def __init__(self, patience):\n",
    "        self.patience = patience\n",
    "        self.best_valid = np.inf\n",
    "        self.best_valid_epoch = 0\n",
    "        self.best_weights = None\n",
    "\n",
    "    def __call__(self, nn, train_history):\n",
    "        current_valid = train_history[-1]['valid_loss']\n",
    "        current_epoch = train_history[-1]['epoch']\n",
    "        if current_valid < self.best_valid:\n",
    "            self.best_valid = current_valid\n",
    "            self.best_valid_epoch = current_epoch\n",
    "            self.best_weights = nn.get_all_params_values()\n",
    "        elif self.best_valid_epoch + self.patience < current_epoch:\n",
    "            print \"Early stopping.\"\n",
    "            print \"Best valid loss was {:.6f} at epoch {}.\".format(\n",
    "                self.best_valid, self.best_valid_epoch)\n",
    "            sys.stdout.flush()\n",
    "            nn.load_params_from(self.best_weights)\n",
    "            raise StopIteration()\n",
    "\n",
    "# another helper class to adjust the learning rate and the momentum\n",
    "class AdjustVariable(object):\n",
    "    def __init__(self, name, stop, decrement=0.0001, increment=None):\n",
    "        self.name = name\n",
    "        self.stop = stop\n",
    "        self.decrement = decrement\n",
    "        self.increment = increment\n",
    "\n",
    "    def __call__(self, nn, train_history):\n",
    "        epoch = train_history[-1]['epoch']\n",
    "        if self.increment:\n",
    "            new_value = min(getattr(nn, self.name) + self.increment, self.stop)\n",
    "        else:\n",
    "            new_value = max(getattr(nn, self.name) - self.decrement, self.stop)\n",
    "        nn.__dict__[self.name] = np.cast['float32'](new_value)\n",
    "            \n",
    "model = NeuralNet(\n",
    "        layers=[\n",
    "        ('input', layers.InputLayer),\n",
    "        ('hidden1', layers.DenseLayer),\n",
    "        ('dropout1', layers.DropoutLayer),\n",
    "        ('hidden2', layers.DenseLayer),\n",
    "        ('dropout2', layers.DropoutLayer),\n",
    "        ('output', layers.DenseLayer),\n",
    "    ],\n",
    "    input_shape=(None, 400),\n",
    "    hidden1_num_units=1000, dropout1_p=0.5,\n",
    "    hidden2_num_units=1000, dropout2_p=0.5,\n",
    "    \n",
    "    output_nonlinearity=tanh,\n",
    "    output_num_units=1,\n",
    "\n",
    "    # optimization method:\n",
    "    regression=True,\n",
    "    update=nesterov_momentum,\n",
    "    update_learning_rate=0.01,\n",
    "    update_momentum=0.9,\n",
    "    \n",
    "    on_epoch_finished=[\n",
    "        AdjustVariable('update_learning_rate', stop=0.0001, decrement=0.00001),\n",
    "        AdjustVariable('update_momentum',      stop=0.999,  increment=0.0001),\n",
    "        EarlyStopping(patience=100)\n",
    "    ],\n",
    "    max_epochs=1000,\n",
    "    eval_size=0.1,\n",
    "    verbose=1\n",
    ")\n",
    "\n",
    "model.fit(np.asarray(X_train, dtype=np.float32), np.asarray(Y_train, dtype=np.float32))"
   ]
  },
  {
   "cell_type": "markdown",
   "metadata": {},
   "source": [
    "# Evaluate the NN"
   ]
  },
  {
   "cell_type": "code",
   "execution_count": 31,
   "metadata": {
    "collapsed": false
   },
   "outputs": [
    {
     "name": "stdout",
     "output_type": "stream",
     "text": [
      "             precision    recall  f1-score   support\n",
      "\n",
      "       -1.0       0.92      0.84      0.88       500\n",
      "        0.0       0.63      0.84      0.72       500\n",
      "        1.0       0.81      0.61      0.70       500\n",
      "\n",
      "avg / total       0.79      0.76      0.77      1500\n",
      "\n",
      "[[421  68  11]\n",
      " [ 22 419  59]\n",
      " [ 16 178 306]]\n"
     ]
    },
    {
     "data": {
      "image/png": "[encoded data removed]",
      "text/plain": [
       "<matplotlib.figure.Figure at 0x116854e10>"
      ]
     },
     "metadata": {},
     "output_type": "display_data"
    }
   ],
   "source": [
    "Y_pred = model.predict(np.asarray(X_test, dtype=np.float32))\n",
    "\n",
    "# let's threshold the continuous values to get the classes\n",
    "pos = Y_pred >= .33\n",
    "neg = Y_pred <= -0.33\n",
    "neu = np.logical_and(Y_pred < 0.33, Y_pred > -0.33)\n",
    "Y_pred[pos] = 1\n",
    "Y_pred[neg] = -1\n",
    "Y_pred[neu] = 0\n",
    "\n",
    "print classification_report(Y_test, Y_pred)\n",
    "\n",
    "cm = confusion_matrix(Y_test, Y_pred)\n",
    "\n",
    "print cm\n",
    "\n",
    "fig = plt.figure()\n",
    "ax = fig.add_subplot(111)\n",
    "cax = ax.matshow(cm)\n",
    "fig.colorbar(cax)\n",
    "\n",
    "ax.set_xticklabels(['']+['-1', '0', '1'])\n",
    "ax.set_yticklabels(['']+['-1', '0', '1'])\n",
    "\n",
    "plt.title('Confusion Matrix')\n",
    "plt.ylabel('True label')\n",
    "plt.xlabel('Predicted label')\n",
    "plt.show()"
   ]
  },
  {
   "cell_type": "code",
   "execution_count": 14,
   "metadata": {
    "collapsed": false
   },
   "outputs": [
    {
     "name": "stdout",
     "output_type": "stream",
     "text": [
      "             precision    recall  f1-score   support\n",
      "\n",
      "       -1.0       0.91      0.86      0.88       500\n",
      "        0.0       0.68      0.68      0.68       500\n",
      "        1.0       0.72      0.75      0.73       500\n",
      "\n",
      "avg / total       0.77      0.76      0.77      1500\n",
      "\n",
      "[[430  52  18]\n",
      " [ 29 340 131]\n",
      " [ 16 107 377]]\n"
     ]
    },
    {
     "data": {
      "image/png": "[encoded data removed]",
      "text/plain": [
       "<matplotlib.figure.Figure at 0x10e147f90>"
      ]
     },
     "metadata": {},
     "output_type": "display_data"
    }
   ],
   "source": [
    "Y_pred = model.predict(np.asarray(X_test, dtype=np.float32))\n",
    "\n",
    "# let's threshold the continuous values to get the classes\n",
    "pos = Y_pred >= .33\n",
    "neg = Y_pred <= -0.33\n",
    "neu = np.logical_and(Y_pred < 0.33, Y_pred > -0.33)\n",
    "Y_pred[pos] = 1\n",
    "Y_pred[neg] = -1\n",
    "Y_pred[neu] = 0\n",
    "\n",
    "print classification_report(Y_test, Y_pred)\n",
    "\n",
    "cm = confusion_matrix(Y_test, Y_pred)\n",
    "\n",
    "print cm\n",
    "\n",
    "fig = plt.figure()\n",
    "ax = fig.add_subplot(111)\n",
    "cax = ax.matshow(cm)\n",
    "fig.colorbar(cax)\n",
    "\n",
    "ax.set_xticklabels(['']+['-1', '0', '1'])\n",
    "ax.set_yticklabels(['']+['-1', '0', '1'])\n",
    "\n",
    "plt.title('Confusion Matrix')\n",
    "plt.ylabel('True label')\n",
    "plt.xlabel('Predicted label')\n",
    "plt.show()"
   ]
  },
  {
   "cell_type": "markdown",
   "metadata": {
    "collapsed": true
   },
   "source": [
    "## The biggest problem is between Positive Vs. Neutral. Let's try to find useful distinguishers for these two classes."
   ]
  },
  {
   "cell_type": "markdown",
   "metadata": {
    "collapsed": true
   },
   "source": [
    "# See how good (or bad) the linguistic features that we have"
   ]
  },
  {
   "cell_type": "code",
   "execution_count": 7,
   "metadata": {
    "collapsed": false
   },
   "outputs": [],
   "source": [
    "import features\n",
    "reload(features)\n",
    "\n",
    "positive_features = np.zeros((len(positive), features.NUM_LINGUISTIC_FEATURES), dtype=np.float32)\n",
    "negative_features = np.zeros((len(negative), features.NUM_LINGUISTIC_FEATURES), dtype=np.float32)\n",
    "neutral_features  = np.zeros((len(neutral) , features.NUM_LINGUISTIC_FEATURES), dtype=np.float32)\n",
    "\n",
    "for i, sentence in enumerate(positive):\n",
    "    sent_vec = features.get_linguistic_features(sentence)\n",
    "    positive_features[i,] = sent_vec\n",
    "\n",
    "for i, sentence in enumerate(negative):\n",
    "    sent_vec = features.get_linguistic_features(sentence)\n",
    "    negative_features[i,] = sent_vec\n",
    "\n",
    "for i, sentence in enumerate(neutral):\n",
    "    sent_vec = features.get_linguistic_features(sentence)\n",
    "    neutral_features[i,] = sent_vec\n",
    "\n",
    "# we'll ignore the imbalance of the classes for now and see what happens\n",
    "# choose 500 samples from each class to be included in the test set\n",
    "\n",
    "num_test_samples_per_class = 500\n",
    "\n",
    "pos_train, pos_test = train_test_split(positive_features, test_size=num_test_samples_per_class, random_state=22)\n",
    "neg_train, neg_test = train_test_split(negative_features, test_size=num_test_samples_per_class, random_state=22)\n",
    "neu_train, neu_test = train_test_split(neutral_features , test_size=num_test_samples_per_class, random_state=22)\n",
    "\n",
    "X_train = np.vstack((\n",
    "    pos_train,\n",
    "    neg_train,\n",
    "    neu_train\n",
    "))\n",
    "X_test  = np.vstack((\n",
    "    pos_test,\n",
    "    neg_test,\n",
    "    neu_test\n",
    "))\n",
    "Y_train = np.hstack((\n",
    "    np.ones((pos_train.shape[0]), dtype=np.float32),\n",
    "    np.ones((neg_train.shape[0]), dtype=np.float32) * -1,\n",
    "    np.zeros((neu_train.shape[0]), dtype=np.float32)\n",
    "))\n",
    "Y_test = np.hstack((\n",
    "    np.ones((pos_test.shape[0]), dtype=np.float32),\n",
    "    np.ones((neg_test.shape[0]), dtype=np.float32) * -1,\n",
    "    np.zeros((neu_test.shape[0]), dtype=np.float32)\n",
    "))\n",
    "\n",
    "# shuffle 'em\n",
    "X_train, Y_train = shuffle(X_train, Y_train, random_state=111)\n",
    "X_test , Y_test  = shuffle(X_test , Y_test , random_state=111)"
   ]
  },
  {
   "cell_type": "markdown",
   "metadata": {},
   "source": [
    "# Train LR"
   ]
  },
  {
   "cell_type": "code",
   "execution_count": 8,
   "metadata": {
    "collapsed": false
   },
   "outputs": [
    {
     "name": "stdout",
     "output_type": "stream",
     "text": [
      "Accuracy: 0.62159 [0.60780 - 0.63538]\n"
     ]
    },
    {
     "name": "stderr",
     "output_type": "stream",
     "text": [
      "[Parallel(n_jobs=8)]: Done   1 jobs       | elapsed:    0.1s\n",
      "[Parallel(n_jobs=8)]: Done   3 out of   3 | elapsed:    0.1s finished\n"
     ]
    },
    {
     "data": {
      "text/plain": [
       "LogisticRegression(C=100000.0, class_weight='auto', dual=False,\n",
       "          fit_intercept=True, intercept_scaling=1, penalty='l2',\n",
       "          random_state=33, tol=0.0001)"
      ]
     },
     "execution_count": 8,
     "metadata": {},
     "output_type": "execute_result"
    }
   ],
   "source": [
    "model = LogisticRegression(C=1e5, class_weight='auto', random_state=33)\n",
    "scores = cross_val_score(model, X_train, Y_train, cv=3, verbose=1, n_jobs=8)\n",
    "print \"Accuracy: %0.5f [%0.5f - %0.5f]\" % (scores.mean(), scores.mean()-scores.std() * 2, scores.mean()+scores.std() * 2)\n",
    "\n",
    "model.fit(X_train, Y_train)"
   ]
  },
  {
   "cell_type": "code",
   "execution_count": 34,
   "metadata": {
    "collapsed": false
   },
   "outputs": [
    {
     "name": "stdout",
     "output_type": "stream",
     "text": [
      "[[ 0.35346987  4.92481448  1.80200111  2.88740596  1.34519168 -0.06794115\n",
      "   1.20213894 -4.38018904]\n",
      " [-2.13637061 -3.40506267 -2.38370639 -1.82043459  0.25270369 -2.41349426\n",
      "  -3.46977753  0.79135405]\n",
      " [ 2.92176862 -1.57157761  1.50862341  1.11264888 -2.41054806  3.26814909\n",
      "   1.841855    3.13502001]]\n",
      "             precision    recall  f1-score   support\n",
      "\n",
      "       -1.0       0.74      0.62      0.68       500\n",
      "        0.0       0.53      0.66      0.59       500\n",
      "        1.0       0.61      0.55      0.58       500\n",
      "\n",
      "avg / total       0.63      0.61      0.61      1500\n",
      "\n",
      "[[311 123  66]\n",
      " [ 57 331 112]\n",
      " [ 53 171 276]]\n"
     ]
    },
    {
     "data": {
      "image/png": "[encoded data removed]",
      "text/plain": [
       "<matplotlib.figure.Figure at 0x1138f4110>"
      ]
     },
     "metadata": {},
     "output_type": "display_data"
    }
   ],
   "source": [
    "print model.coef_\n",
    "\n",
    "Y_pred = model.predict(X_test)\n",
    "print classification_report(Y_test, Y_pred)\n",
    "\n",
    "cm = confusion_matrix(Y_test, Y_pred)\n",
    "\n",
    "print cm\n",
    "\n",
    "fig = plt.figure()\n",
    "ax = fig.add_subplot(111)\n",
    "cax = ax.matshow(cm)\n",
    "fig.colorbar(cax)\n",
    "\n",
    "ax.set_xticklabels(['']+['-1', '0', '1'])\n",
    "ax.set_yticklabels(['']+['-1', '0', '1'])\n",
    "\n",
    "plt.title('Confusion Matrix')\n",
    "plt.ylabel('True label')\n",
    "plt.xlabel('Predicted label')\n",
    "plt.show()"
   ]
  },
  {
   "cell_type": "markdown",
   "metadata": {},
   "source": [
    "# Okay so these are much worse than word2vec. Let's combine them together."
   ]
  },
  {
   "cell_type": "code",
   "execution_count": 38,
   "metadata": {
    "collapsed": false
   },
   "outputs": [],
   "source": [
    "model_path = '../models/word2vec_twitter_model.bin'\n",
    "w2v = Word2Vec.load_word2vec_format(model_path, binary=True)\n",
    "\n",
    "import features\n",
    "reload(features)\n",
    "\n",
    "num_features = w2v.layer1_size + features.NUM_LINGUISTIC_FEATURES\n",
    "positive_features = np.zeros((len(positive), num_features), dtype=np.float32)\n",
    "negative_features = np.zeros((len(negative), num_features), dtype=np.float32)\n",
    "neutral_features  = np.zeros((len(neutral) , num_features), dtype=np.float32)\n",
    "\n",
    "for i, sentence in enumerate(positive):\n",
    "    sent_vec = features.get_features(w2v, sentence)\n",
    "    positive_features[i,] = sent_vec\n",
    "\n",
    "for i, sentence in enumerate(negative):\n",
    "    sent_vec = features.get_features(w2v, sentence)\n",
    "    negative_features[i,] = sent_vec\n",
    "\n",
    "for i, sentence in enumerate(neutral):\n",
    "    sent_vec = features.get_features(w2v, sentence)\n",
    "    neutral_features[i,] = sent_vec\n",
    "\n",
    "del w2v\n",
    "    \n",
    "num_test_samples_per_class = 500\n",
    "\n",
    "pos_train, pos_test = train_test_split(positive_features, test_size=num_test_samples_per_class, random_state=22)\n",
    "neg_train, neg_test = train_test_split(negative_features, test_size=num_test_samples_per_class, random_state=22)\n",
    "neu_train, neu_test = train_test_split(neutral_features , test_size=num_test_samples_per_class, random_state=22)\n",
    "\n",
    "X_train = np.vstack((\n",
    "    pos_train,\n",
    "    neg_train,\n",
    "    neu_train\n",
    "))\n",
    "X_test  = np.vstack((\n",
    "    pos_test,\n",
    "    neg_test,\n",
    "    neu_test\n",
    "))\n",
    "Y_train = np.hstack((\n",
    "    np.ones((pos_train.shape[0]), dtype=np.float32),\n",
    "    np.ones((neg_train.shape[0]), dtype=np.float32) * -1,\n",
    "    np.zeros((neu_train.shape[0]), dtype=np.float32)\n",
    "))\n",
    "Y_test = np.hstack((\n",
    "    np.ones((pos_test.shape[0]), dtype=np.float32),\n",
    "    np.ones((neg_test.shape[0]), dtype=np.float32) * -1,\n",
    "    np.zeros((neu_test.shape[0]), dtype=np.float32)\n",
    "))\n",
    "\n",
    "# shuffle 'em\n",
    "X_train, Y_train = shuffle(X_train, Y_train, random_state=111)\n",
    "X_test , Y_test  = shuffle(X_test , Y_test , random_state=111)"
   ]
  },
  {
   "cell_type": "code",
   "execution_count": 39,
   "metadata": {
    "collapsed": false
   },
   "outputs": [
    {
     "name": "stderr",
     "output_type": "stream",
     "text": [
      "[Parallel(n_jobs=8)]: Done   1 out of   3 | elapsed:   16.0s remaining:   32.0s\n",
      "[Parallel(n_jobs=8)]: Done   3 out of   3 | elapsed:   16.3s finished\n"
     ]
    },
    {
     "name": "stdout",
     "output_type": "stream",
     "text": [
      "Accuracy: 0.76723 [0.76123 - 0.77323]\n"
     ]
    },
    {
     "data": {
      "text/plain": [
       "LogisticRegression(C=100000.0, class_weight='auto', dual=False,\n",
       "          fit_intercept=True, intercept_scaling=1, penalty='l2',\n",
       "          random_state=33, tol=0.0001)"
      ]
     },
     "execution_count": 39,
     "metadata": {},
     "output_type": "execute_result"
    }
   ],
   "source": [
    "model = LogisticRegression(C=1e5, class_weight='auto', random_state=33)\n",
    "scores = cross_val_score(model, X_train, Y_train, cv=3, verbose=1, n_jobs=8)\n",
    "print \"Accuracy: %0.5f [%0.5f - %0.5f]\" % (scores.mean(), scores.mean()-scores.std() * 2, scores.mean()+scores.std() * 2)\n",
    "\n",
    "model.fit(X_train, Y_train)"
   ]
  },
  {
   "cell_type": "code",
   "execution_count": 40,
   "metadata": {
    "collapsed": false
   },
   "outputs": [
    {
     "name": "stdout",
     "output_type": "stream",
     "text": [
      "             precision    recall  f1-score   support\n",
      "\n",
      "       -1.0       0.84      0.88      0.86       500\n",
      "        0.0       0.71      0.79      0.75       500\n",
      "        1.0       0.78      0.66      0.71       500\n",
      "\n",
      "avg / total       0.78      0.77      0.77      1500\n",
      "\n",
      "[[441  35  24]\n",
      " [ 37 393  70]\n",
      " [ 46 126 328]]\n"
     ]
    },
    {
     "data": {
      "image/png": "[encoded data removed]",
      "text/plain": [
       "<matplotlib.figure.Figure at 0x113724350>"
      ]
     },
     "metadata": {},
     "output_type": "display_data"
    }
   ],
   "source": [
    "Y_pred = model.predict(X_test)\n",
    "print classification_report(Y_test, Y_pred)\n",
    "\n",
    "cm = confusion_matrix(Y_test, Y_pred)\n",
    "\n",
    "print cm\n",
    "\n",
    "fig = plt.figure()\n",
    "ax = fig.add_subplot(111)\n",
    "cax = ax.matshow(cm)\n",
    "fig.colorbar(cax)\n",
    "\n",
    "ax.set_xticklabels(['']+['-1', '0', '1'])\n",
    "ax.set_yticklabels(['']+['-1', '0', '1'])\n",
    "\n",
    "plt.title('Confusion Matrix')\n",
    "plt.ylabel('True label')\n",
    "plt.xlabel('Predicted label')\n",
    "plt.show()"
   ]
  },
  {
   "cell_type": "markdown",
   "metadata": {},
   "source": [
    "# Very little improvement. Let's train a model on the w2v features, and then use the output of this model as a linguistic feature."
   ]
  },
  {
   "cell_type": "code",
   "execution_count": 18,
   "metadata": {
    "collapsed": false
   },
   "outputs": [
    {
     "name": "stdout",
     "output_type": "stream",
     "text": [
      "[-1.0, 0.0, 1.0]\n"
     ]
    }
   ],
   "source": [
    "w2v_outputs = model.predict(X_train)\n",
    "\n",
    "# convert the outputs to 3 indicator (i.e. binary) features\n",
    "mlb = MultiLabelBinarizer()\n",
    "w2v_outputs = mlb.fit_transform([(x,) for x in w2v_outputs.tolist()])\n",
    "print list(mlb.classes_)"
   ]
  },
  {
   "cell_type": "code",
   "execution_count": 23,
   "metadata": {
    "collapsed": false
   },
   "outputs": [],
   "source": [
    "# load the linguistic features again\n",
    "\n",
    "import features\n",
    "reload(features)\n",
    "\n",
    "positive_features = np.zeros((len(positive), features.NUM_LINGUISTIC_FEATURES), dtype=np.float32)\n",
    "negative_features = np.zeros((len(negative), features.NUM_LINGUISTIC_FEATURES), dtype=np.float32)\n",
    "neutral_features  = np.zeros((len(neutral) , features.NUM_LINGUISTIC_FEATURES), dtype=np.float32)\n",
    "\n",
    "for i, sentence in enumerate(positive):\n",
    "    sent_vec = features.get_linguistic_features(sentence)\n",
    "    positive_features[i,] = sent_vec\n",
    "\n",
    "for i, sentence in enumerate(negative):\n",
    "    sent_vec = features.get_linguistic_features(sentence)\n",
    "    negative_features[i,] = sent_vec\n",
    "\n",
    "for i, sentence in enumerate(neutral):\n",
    "    sent_vec = features.get_linguistic_features(sentence)\n",
    "    neutral_features[i,] = sent_vec\n",
    "\n",
    "# we'll ignore the imbalance of the classes for now and see what happens\n",
    "# choose 500 samples from each class to be included in the test set\n",
    "\n",
    "num_test_samples_per_class = 500\n",
    "\n",
    "pos_train, pos_test = train_test_split(positive_features, test_size=num_test_samples_per_class, random_state=22)\n",
    "neg_train, neg_test = train_test_split(negative_features, test_size=num_test_samples_per_class, random_state=22)\n",
    "neu_train, neu_test = train_test_split(neutral_features , test_size=num_test_samples_per_class, random_state=22)\n",
    "\n",
    "X_train = np.vstack((\n",
    "    pos_train,\n",
    "    neg_train,\n",
    "    neu_train\n",
    "))\n",
    "X_test  = np.vstack((\n",
    "    pos_test,\n",
    "    neg_test,\n",
    "    neu_test\n",
    "))\n",
    "Y_train = np.hstack((\n",
    "    np.ones((pos_train.shape[0]), dtype=np.float32),\n",
    "    np.ones((neg_train.shape[0]), dtype=np.float32) * -1,\n",
    "    np.zeros((neu_train.shape[0]), dtype=np.float32)\n",
    "))\n",
    "Y_test = np.hstack((\n",
    "    np.ones((pos_test.shape[0]), dtype=np.float32),\n",
    "    np.ones((neg_test.shape[0]), dtype=np.float32) * -1,\n",
    "    np.zeros((neu_test.shape[0]), dtype=np.float32)\n",
    "))\n",
    "\n",
    "# shuffle 'em\n",
    "X_train, Y_train = shuffle(X_train, Y_train, random_state=111)\n",
    "X_test , Y_test  = shuffle(X_test , Y_test , random_state=111)"
   ]
  },
  {
   "cell_type": "code",
   "execution_count": 20,
   "metadata": {
    "collapsed": false
   },
   "outputs": [
    {
     "name": "stderr",
     "output_type": "stream",
     "text": [
      "[Parallel(n_jobs=1)]: Done   1 jobs       | elapsed:    0.1s\n",
      "[Parallel(n_jobs=1)]: Done   3 out of   3 | elapsed:    0.3s finished\n"
     ]
    },
    {
     "name": "stdout",
     "output_type": "stream",
     "text": [
      "Accuracy: 0.77722 [0.77457 - 0.77987]\n",
      "[[ 1.78308727 -2.00017066 -1.51003745 -0.12711376  2.66382888  0.83223089\n",
      "   1.41265682  0.54149745 -0.37233413  1.36643276 -2.02640973]\n",
      " [-1.28674621  1.80233702 -0.26957343 -1.33392601 -1.62424827 -1.19637774\n",
      "  -0.86351365  0.62487347 -1.45411957 -1.84409244 -0.2899234 ]\n",
      " [-1.78057058 -0.89058757  1.02719014  1.81030889 -0.7555225   0.90475212\n",
      "   0.57236135 -1.62974088  1.93892389  0.64970067  1.8247693 ]]\n"
     ]
    }
   ],
   "source": [
    "# now combine the features and train a new classifier\n",
    "X_train = np.hstack((\n",
    "    w2v_outputs,\n",
    "    X_train\n",
    "))\n",
    "\n",
    "ling_model = LogisticRegression(C=1e5, class_weight='auto', random_state=33)\n",
    "scores = cross_val_score(ling_model, X_train, Y_train, cv=3, verbose=1)\n",
    "print \"Accuracy: %0.5f [%0.5f - %0.5f]\" % (scores.mean(), scores.mean()-scores.std() * 2, scores.mean()+scores.std() * 2)\n",
    "\n",
    "ling_model.fit(X_train, Y_train)\n",
    "print ling_model.coef_"
   ]
  }
 ],
 "metadata": {
  "kernelspec": {
   "display_name": "Python 2",
   "language": "python",
   "name": "python2"
  },
  "language_info": {
   "codemirror_mode": {
    "name": "ipython",
    "version": 2
   },
   "file_extension": ".py",
   "mimetype": "text/x-python",
   "name": "python",
   "nbconvert_exporter": "python",
   "pygments_lexer": "ipython2",
   "version": "2.7.9"
  }
 },
 "nbformat": 4,
 "nbformat_minor": 0
}
